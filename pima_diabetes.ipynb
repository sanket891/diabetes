{
 "cells": [
  {
   "cell_type": "code",
   "execution_count": 1,
   "metadata": {},
   "outputs": [],
   "source": [
    "import pandas as pd\n",
    "import numpy as np\n",
    "from sklearn.model_selection import train_test_split\n",
    "from sklearn.preprocessing import StandardScaler\n",
    "from sklearn.ensemble import RandomForestClassifier, GradientBoostingClassifier\n",
    "from sklearn.tree import DecisionTreeClassifier\n",
    "from sklearn.metrics import confusion_matrix, accuracy_score\n",
    "import pickle\n"
   ]
  },
  {
   "cell_type": "code",
   "execution_count": null,
   "metadata": {},
   "outputs": [],
   "source": [
    "# Load the Pima Indians Diabetes dataset\n",
    "data = pd.read_csv(\"diabetes.csv\")\n",
    "data"
   ]
  },
  {
   "cell_type": "code",
   "execution_count": null,
   "metadata": {},
   "outputs": [],
   "source": [
    "# Split the data into input variables (X) and target variable (y)\n",
    "X = data.iloc[:, :-1]\n",
    "y = data.iloc[:, -1]"
   ]
  },
  {
   "cell_type": "code",
   "execution_count": null,
   "metadata": {},
   "outputs": [],
   "source": [
    "# Split the data into training and testing datasets\n",
    "X_train, X_test, y_train, y_test = train_test_split(X, y, test_size=0.3, random_state=0)"
   ]
  },
  {
   "cell_type": "code",
   "execution_count": null,
   "metadata": {},
   "outputs": [],
   "source": [
    "# Standardize the data\n",
    "scaler = StandardScaler()\n",
    "X_train = scaler.fit_transform(X_train)\n",
    "X_test = scaler.transform(X_test)"
   ]
  },
  {
   "cell_type": "code",
   "execution_count": null,
   "metadata": {},
   "outputs": [],
   "source": [
    "# Train a Random Forest Classifier\n",
    "model1 = DecisionTreeClassifier(max_depth = 5, min_samples_split = 5, min_samples_leaf = 5, random_state=42)\n",
    "model2 = RandomForestClassifier(n_estimators = 50, random_state=42)\n",
    "model3 = GradientBoostingClassifier(n_estimators = 100, random_state=42)\n",
    "\n",
    "model1.fit(X_train, y_train)\n",
    "model2.fit(X_train, y_train)\n",
    "model3.fit(X_train, y_train)\n"
   ]
  },
  {
   "cell_type": "code",
   "execution_count": null,
   "metadata": {},
   "outputs": [],
   "source": [
    "# Make predictions on the testing dataset\n",
    "y_pred = model3.predict(X_test)"
   ]
  },
  {
   "cell_type": "code",
   "execution_count": null,
   "metadata": {},
   "outputs": [],
   "source": [
    "# Evaluate the model's accuracy\n",
    "acc = accuracy_score(y_test, y_pred)\n",
    "print(\"Accuracy: {:.2f}%\".format(acc * 100))"
   ]
  },
  {
   "cell_type": "code",
   "execution_count": null,
   "metadata": {},
   "outputs": [],
   "source": [
    "\n",
    "# Plot the confusion matrix\n",
    "cm = confusion_matrix(y_test, y_pred)\n",
    "print(\"Confusion Matrix:\\n\", cm)"
   ]
  },
  {
   "cell_type": "code",
   "execution_count": null,
   "metadata": {},
   "outputs": [],
   "source": [
    "# Save the model to disk\n",
    "model_1_file_Name = 'model_objects/pima_indians_diabetes_DecisionTree_model.pkl'\n",
    "model_2_file_Name = 'model_objects/pima_indians_diabetes_RandomForest_model.pkl'\n",
    "model_3_file_Name = 'model_objects/pima_indians_diabetes_GradientBoosting_model.pkl'\n",
    "scaler_name = 'model_objects/scaler_saved.pkl'\n",
    "\n",
    "pickle.dump(model1, open(model_1_file_Name, 'wb'))\n",
    "pickle.dump(model2, open(model_2_file_Name, 'wb'))\n",
    "pickle.dump(model3, open(model_3_file_Name, 'wb'))\n",
    "pickle.dump(scaler, open(scaler_name, 'wb'))"
   ]
  },
  {
   "attachments": {},
   "cell_type": "markdown",
   "metadata": {},
   "source": [
    "### To Predict New observations"
   ]
  },
  {
   "cell_type": "code",
   "execution_count": 2,
   "metadata": {},
   "outputs": [],
   "source": [
    "# Load the saved model from disk\n",
    "model_3_file_Name = 'model_objects/pima_indians_diabetes_GradientBoosting_model.pkl'\n",
    "scaler_name = 'model_objects/scaler_saved.pkl'\n",
    "\n",
    "loaded_model = pickle.load(open(model_3_file_Name, 'rb'))\n",
    "loaded_scaler = pickle.load(open(scaler_name, 'rb'))"
   ]
  },
  {
   "cell_type": "code",
   "execution_count": 3,
   "metadata": {},
   "outputs": [],
   "source": [
    "# New observations\n",
    "new_observations = np.array([[6, 148, 72, 35, 0, 33.6, 0.627, 50]])"
   ]
  },
  {
   "cell_type": "code",
   "execution_count": 4,
   "metadata": {},
   "outputs": [
    {
     "name": "stderr",
     "output_type": "stream",
     "text": [
      "/Users/sanketshahrealone/opt/anaconda3/lib/python3.9/site-packages/sklearn/base.py:450: UserWarning: X does not have valid feature names, but StandardScaler was fitted with feature names\n",
      "  warnings.warn(\n"
     ]
    },
    {
     "data": {
      "text/plain": [
       "array([[ 0.63060337,  0.8213066 ,  0.11998613,  0.87217022, -0.71652335,\n",
       "         0.16754413,  0.46596991,  1.36167568]])"
      ]
     },
     "execution_count": 4,
     "metadata": {},
     "output_type": "execute_result"
    }
   ],
   "source": [
    "new_observations = loaded_scaler.transform(new_observations)\n",
    "new_observations"
   ]
  },
  {
   "cell_type": "code",
   "execution_count": 5,
   "metadata": {},
   "outputs": [],
   "source": [
    "# Make predictions on the new observations\n",
    "prediction = loaded_model.predict(new_observations)[0]\n",
    "prediction_prob = round(np.amax(loaded_model.predict_proba(new_observations)) * 100,2)"
   ]
  },
  {
   "cell_type": "code",
   "execution_count": 6,
   "metadata": {},
   "outputs": [
    {
     "name": "stdout",
     "output_type": "stream",
     "text": [
      "Prediction: 1 as outcome with: 87.5 % Probability\n"
     ]
    }
   ],
   "source": [
    "# The prediction will be a binary outcome (0 or 1), indicating whether the person has diabetes or not\n",
    "print(\"Prediction:\", prediction, \"as outcome with:\", prediction_prob, \"% Probability\")"
   ]
  },
  {
   "cell_type": "code",
   "execution_count": null,
   "metadata": {},
   "outputs": [],
   "source": []
  }
 ],
 "metadata": {
  "kernelspec": {
   "display_name": "base",
   "language": "python",
   "name": "python3"
  },
  "language_info": {
   "codemirror_mode": {
    "name": "ipython",
    "version": 3
   },
   "file_extension": ".py",
   "mimetype": "text/x-python",
   "name": "python",
   "nbconvert_exporter": "python",
   "pygments_lexer": "ipython3",
   "version": "3.10.5"
  },
  "orig_nbformat": 4,
  "vscode": {
   "interpreter": {
    "hash": "57e7602b4ae02b495c862eaafaf248e7926da89b4232adc0a75b6826b2aed278"
   }
  }
 },
 "nbformat": 4,
 "nbformat_minor": 2
}
